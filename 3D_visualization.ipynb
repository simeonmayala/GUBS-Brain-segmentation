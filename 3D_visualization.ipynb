{
 "cells": [
  {
   "cell_type": "code",
   "execution_count": null,
   "metadata": {},
   "outputs": [],
   "source": [
    "# The code visualizes 3D. For big images it takes time to visualize. \n",
    "# This peace of code was adapted from a code found this link\n",
    "# https://github.com/mandrakedrink/BraTS20_Unet3d_AutoEncoder/blob/master/visualizer.py"
   ]
  },
  {
   "cell_type": "code",
   "execution_count": null,
   "metadata": {
    "id": "YRybiFhvQhwh"
   },
   "outputs": [],
   "source": [
    "%matplotlib inline\n",
    "import warnings\n",
    "warnings.filterwarnings(\"ignore\")"
   ]
  },
  {
   "cell_type": "code",
   "execution_count": null,
   "metadata": {
    "id": "t4qUHvPBQhwn"
   },
   "outputs": [],
   "source": [
    "from skimage.transform import resize\n",
    "from matplotlib import cm\n",
    "import scipy.ndimage as ndimage\n",
    "import matplotlib.pyplot as plt\n",
    "import numpy as np"
   ]
  },
  {
   "cell_type": "code",
   "execution_count": null,
   "metadata": {
    "id": "DTQWB5-wo-L_"
   },
   "outputs": [],
   "source": [
    "def normalize(arr):\n",
    "    arr_min = np.min(arr)\n",
    "    return (arr-arr_min)/(np.max(arr)-arr_min)\n",
    "\n",
    "def explode(data):\n",
    "    shape_arr = np.array(data.shape)\n",
    "    size = shape_arr[:3]*2 - 1\n",
    "    exploded = np.zeros(np.concatenate([size, shape_arr[3:]]), dtype=data.dtype)\n",
    "    exploded[::2, ::2, ::2] = data\n",
    "    return exploded\n",
    "\n",
    "def expand_coordinates(indices):\n",
    "    x, y, z = indices\n",
    "    x[1::2, :, :] += 1\n",
    "    y[:, 1::2, :] += 1\n",
    "    z[:, :, 1::2] += 1\n",
    "    return x, y, z\n",
    "\n",
    "def plot_cube(cube, angle=320):\n",
    "    cube = normalize(cube)\n",
    "    \n",
    "    facecolors = cm.viridis(cube)\n",
    "    facecolors[:,:,:,-1] = cube\n",
    "    facecolors = explode(facecolors)\n",
    "    \n",
    "    filled = facecolors[:,:,:,-1] != 0\n",
    "    x, y, z = expand_coordinates(np.indices(np.array(filled.shape) + 1))\n",
    "\n",
    "    fig = plt.figure(figsize=(30/2.54, 30/2.54))\n",
    "    ax = fig.gca(projection='3d')\n",
    "    ax.view_init(30, angle)\n",
    "    ax.set_xlim(right=IMG_DIM*2)\n",
    "    ax.set_ylim(top=IMG_DIM*2)\n",
    "    ax.set_zlim(top=IMG_DIM*2)\n",
    "    ax.set_facecolor((0.7,0.7,0.7))\n",
    "    \n",
    "    ax.voxels(x, y, z, filled, facecolors=facecolors, shade=False)\n",
    "    plt.show()"
   ]
  },
  {
   "cell_type": "code",
   "execution_count": null,
   "metadata": {},
   "outputs": [],
   "source": [
    "seg = \"...path...\""
   ]
  },
  {
   "cell_type": "code",
   "execution_count": null,
   "metadata": {
    "id": "leRUwVGMqQNj"
   },
   "outputs": [],
   "source": [
    "# This sets the size of the plot\n",
    "IMG_DIM = 80"
   ]
  },
  {
   "cell_type": "code",
   "execution_count": null,
   "metadata": {
    "id": "_NcH90Q5ePgK"
   },
   "outputs": [],
   "source": [
    "resized = resize(seg, (IMG_DIM, IMG_DIM, IMG_DIM), mode='constant')"
   ]
  },
  {
   "cell_type": "code",
   "execution_count": null,
   "metadata": {
    "id": "uzNtQJSWI11I"
   },
   "outputs": [],
   "source": [
    "resized = ndimage.rotate(resized, 90, axes=(0,2)) "
   ]
  },
  {
   "cell_type": "code",
   "execution_count": null,
   "metadata": {
    "colab": {
     "base_uri": "https://localhost:8080/",
     "height": 691
    },
    "id": "5JBSqgewpkNI",
    "outputId": "f3631300-b76e-4aae-9783-7f773e978df5"
   },
   "outputs": [],
   "source": [
    "plot_cube(resized[:,::-1,:])"
   ]
  },
  {
   "cell_type": "code",
   "execution_count": null,
   "metadata": {
    "id": "lxC2VX35Xwse"
   },
   "outputs": [],
   "source": [
    " "
   ]
  },
  {
   "cell_type": "code",
   "execution_count": null,
   "metadata": {
    "id": "6H-iCMIGcphY"
   },
   "outputs": [],
   "source": []
  }
 ],
 "metadata": {
  "colab": {
   "provenance": []
  },
  "kernelspec": {
   "display_name": "Python 3",
   "language": "python",
   "name": "python3"
  },
  "language_info": {
   "codemirror_mode": {
    "name": "ipython",
    "version": 3
   },
   "file_extension": ".py",
   "mimetype": "text/x-python",
   "name": "python",
   "nbconvert_exporter": "python",
   "pygments_lexer": "ipython3",
   "version": "3.6.8"
  }
 },
 "nbformat": 4,
 "nbformat_minor": 1
}
