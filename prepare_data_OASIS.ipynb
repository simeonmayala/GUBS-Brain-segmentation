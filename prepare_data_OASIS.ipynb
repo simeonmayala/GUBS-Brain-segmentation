{
 "cells": [
  {
   "cell_type": "code",
   "execution_count": 1,
   "metadata": {},
   "outputs": [],
   "source": [
    "%matplotlib inline\n",
    "import warnings\n",
    "warnings.filterwarnings(\"ignore\")"
   ]
  },
  {
   "cell_type": "code",
   "execution_count": 2,
   "metadata": {},
   "outputs": [],
   "source": [
    "import keras\n",
    "from keras.datasets import fashion_mnist"
   ]
  },
  {
   "cell_type": "code",
   "execution_count": 3,
   "metadata": {},
   "outputs": [],
   "source": [
    "import os\n",
    "import numpy as np\n",
    "from tensorflow.keras.utils import to_categorical\n",
    "import matplotlib.pyplot as plt\n",
    "from skimage.io import imread\n",
    "from skimage.transform import resize\n",
    "import math\n",
    "import nibabel as nib\n",
    "from nilearn import image\n",
    "from scipy import ndimage\n",
    "import glob\n",
    "from sklearn.preprocessing import MinMaxScaler\n",
    "scaler = MinMaxScaler()"
   ]
  },
  {
   "cell_type": "code",
   "execution_count": 4,
   "metadata": {},
   "outputs": [],
   "source": [
    "from sklearn.model_selection import train_test_split"
   ]
  },
  {
   "cell_type": "code",
   "execution_count": 48,
   "metadata": {},
   "outputs": [],
   "source": [
    "from tensorflow.keras.preprocessing.image import load_img\n",
    "import itertools\n",
    "import shutil"
   ]
  },
  {
   "cell_type": "code",
   "execution_count": 8,
   "metadata": {},
   "outputs": [],
   "source": [
    "def resize_data(data):\n",
    "    initial_size_x = data.shape[0]\n",
    "    initial_size_y = data.shape[1]\n",
    "    initial_size_z = data.shape[2]\n",
    "\n",
    "    new_size_x = 128\n",
    "    new_size_y = 128\n",
    "    new_size_z = 128\n",
    "\n",
    "    delta_x = initial_size_x / new_size_x\n",
    "    delta_y = initial_size_y / new_size_y\n",
    "    delta_z = initial_size_z / new_size_z\n",
    "\n",
    "    new_data = np.zeros((new_size_x, new_size_y, new_size_z))\n",
    "\n",
    "    for x, y, z in itertools.product(range(new_size_x),\n",
    "                                     range(new_size_y),\n",
    "                                     range(new_size_z)):\n",
    "        new_data[x][y][z] = data[int(x * delta_x)][int(y * delta_y)][int(z * delta_z)]\n",
    "\n",
    "    return new_data"
   ]
  },
  {
   "cell_type": "code",
   "execution_count": 9,
   "metadata": {},
   "outputs": [],
   "source": [
    "def preprocess_anatomical(img_data_array):\n",
    "    brain_volume = []\n",
    "    highest_dim = max(img_data_array.shape)\n",
    "    modify_channel_start = int(highest_dim/4)\n",
    "    modify_channel_end = int(min(img_data_array.shape))\n",
    "    stop_point = modify_channel_start + modify_channel_end\n",
    "\n",
    "    for i in range(modify_channel_start):\n",
    "        temp = np.zeros((highest_dim, highest_dim))\n",
    "        brain_volume.append(temp)\n",
    "\n",
    "    for i in range(img_data_array.shape[2]):\n",
    "        img_slice_array_ana = img_data_array[:,:,i]\n",
    "    #     img_slice_array_ana  = ndimage.rotate(img_slice_array_ana, 90)\n",
    "        brain_volume.append(img_slice_array_ana)\n",
    "\n",
    "    for i in range(modify_channel_start):\n",
    "        temp = np.zeros((highest_dim, highest_dim))\n",
    "        brain_volume.append(temp)\n",
    "        \n",
    "    brain_volume = np.array(brain_volume)\n",
    "#     brain_volume = brain_volume[40:214, 40:214, 40:214] \n",
    "    brain_volume = resize_data(brain_volume)\n",
    "    return brain_volume"
   ]
  },
  {
   "cell_type": "code",
   "execution_count": 10,
   "metadata": {},
   "outputs": [],
   "source": [
    "def preprocess_ground_truth(img_data_array_gt):\n",
    "    brain_volume_gt = []\n",
    "    highest_dim = max(img_data_array_gt.shape)\n",
    "    modify_channel_start = int(highest_dim/4)\n",
    "    modify_channel_end = int(min(img_data_array_gt.shape))\n",
    "    stop_point = modify_channel_start + modify_channel_end\n",
    "\n",
    "    for i in range(modify_channel_start):\n",
    "        temp = np.zeros((highest_dim, highest_dim))\n",
    "        brain_volume_gt.append(temp)\n",
    "\n",
    "    for i in range(img_data_array_gt.shape[1]):\n",
    "        img_slice_array_ana = img_data_array_gt[:,i,:]\n",
    "    #     img_slice_array_ana  = ndimage.rotate(img_slice_array_ana, 90)\n",
    "        brain_volume_gt.append(img_slice_array_ana)\n",
    "\n",
    "    for i in range(modify_channel_start):\n",
    "        temp = np.zeros((highest_dim, highest_dim))\n",
    "        brain_volume_gt.append(temp)\n",
    "        \n",
    "    brain_volume_gt = np.array(brain_volume_gt)\n",
    "    brain_volume_gt = brain_volume_gt[40:214,40:214, 40:214]\n",
    "    brain_volume_gt = resize_data(brain_volume_gt)\n",
    "    \n",
    "    return  brain_volume_gt"
   ]
  },
  {
   "cell_type": "code",
   "execution_count": 24,
   "metadata": {},
   "outputs": [],
   "source": [
    "# For anatomical slices\n",
    "file_path = '......path'\n",
    "files_mri  =  os.listdir(file_path)\n",
    "files_mri  = [file for file in files_mri if  file.endswith('MR1')]\n",
    "files_mri = sorted(files_mri)\n",
    "paths_ana  = [file_path + '/' + file for file in files_mri]"
   ]
  },
  {
   "cell_type": "code",
   "execution_count": 26,
   "metadata": {},
   "outputs": [],
   "source": [
    "for i in range(len(paths_ana )):\n",
    "    part1 = paths_ana[i]\n",
    "    part2 = '/PROCESSED/MPRAGE/T88_111/'\n",
    "    path_given = [part1 + '/'+ part2]\n",
    "    # MRI images\n",
    "    different_mri_files =  os.listdir(path_given[0])\n",
    "    files_to_mri  = [file for file in different_mri_files if  file.endswith('111_t88_gfc.img')]\n",
    "    files_to_mri = sorted(files_to_mri)\n",
    "    paths_ana_to_mri  = [path_given[0] + '/' + file for file in files_to_mri]\n",
    "    \n",
    "    img_anatomical = nib.load(paths_ana_to_mri[0])\n",
    "    retreve_volume = image.index_img(img_anatomical, 0)\n",
    "    # Get data from nibabel image object \n",
    "    img_data = retreve_volume.get_data()\n",
    "    img_data_array = np.asarray(img_data)\n",
    "    \n",
    "    _, file_name_mri = os.path.split(paths_ana_to_mri[0])\n",
    "    file_name_mri = file_name_mri[:file_name_mri.rfind(\".\")]\n",
    "    pre_anatomical = resize_data(img_data_array)\n",
    "    pre_anatomical = scaler.fit_transform(pre_anatomical.reshape(-1, pre_anatomical.shape[-1])).reshape(pre_anatomical.shape)\n",
    "    pre_anatomical = np.stack([pre_anatomical], axis=3)\n",
    "    np.save('mri_images/'+str(file_name_mri)+'.npy', pre_anatomical)\n",
    "\n",
    "    \n",
    "    # Ground truth images\n",
    "    different_gt_files =  os.listdir(path_given[0])\n",
    "    files_to_gt  = [file for file in different_gt_files if  file.endswith('masked_gfc.img')]\n",
    "    files_to_gt = sorted(files_to_gt)\n",
    "    paths_ana_to_gt = [path_given[0] + '/' + file for file in files_to_gt]\n",
    "    \n",
    "    img_gt = nib.load(paths_ana_to_gt[0])\n",
    "    retreve_volume_gt = image.index_img(img_gt, 0)\n",
    "    # Get data from nibabel image object \n",
    "    img_data_gt = retreve_volume_gt.get_data()\n",
    "    img_data_array_gt = np.asarray(img_data_gt)\n",
    "    img_data_test_binary = img_data_array_gt > 0\n",
    "    \n",
    "    _, file_name_mask = os.path.split(paths_ana_to_gt[0])\n",
    "    file_name_mask = file_name_mask[:file_name_mask.rfind(\".\")]\n",
    "    temp_mask = resize_data(img_data_test_binary)\n",
    "    pre_gt = to_categorical(temp_mask, num_classes = 2)\n",
    "    np.save('ground_truth_images/'+str(file_name_mask)+'.npy', pre_gt)"
   ]
  },
  {
   "cell_type": "code",
   "execution_count": null,
   "metadata": {},
   "outputs": [],
   "source": []
  }
 ],
 "metadata": {
  "kernelspec": {
   "display_name": "Python 3",
   "language": "python",
   "name": "python3"
  },
  "language_info": {
   "codemirror_mode": {
    "name": "ipython",
    "version": 3
   },
   "file_extension": ".py",
   "mimetype": "text/x-python",
   "name": "python",
   "nbconvert_exporter": "python",
   "pygments_lexer": "ipython3",
   "version": "3.6.8"
  }
 },
 "nbformat": 4,
 "nbformat_minor": 2
}
